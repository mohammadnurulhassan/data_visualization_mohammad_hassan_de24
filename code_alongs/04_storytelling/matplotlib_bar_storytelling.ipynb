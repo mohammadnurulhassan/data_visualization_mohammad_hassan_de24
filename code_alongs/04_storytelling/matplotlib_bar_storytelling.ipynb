{
 "cells": [
  {
   "cell_type": "markdown",
   "id": "ea72056d",
   "metadata": {},
   "source": [
    "## Matplotlib_bar_storytelling"
   ]
  }
 ],
 "metadata": {
  "language_info": {
   "name": "python"
  }
 },
 "nbformat": 4,
 "nbformat_minor": 5
}
